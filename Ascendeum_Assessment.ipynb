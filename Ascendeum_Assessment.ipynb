{
 "cells": [
  {
   "cell_type": "code",
   "execution_count": null,
   "id": "8d26133a",
   "metadata": {},
   "outputs": [],
   "source": [
    "# nxn values from 1 to n^2\n",
    "\n",
    "# spiral order filling"
   ]
  },
  {
   "cell_type": "code",
   "execution_count": null,
   "id": "9b9181e9",
   "metadata": {},
   "outputs": [],
   "source": [
    "# L                   R \n",
    "#     [0,0][0,1][0,2][0,3]\n",
    "# T   [1,0][1,1][1,2][1,3]\n",
    "# B   [2,0][2,1][2,2][2,3]\n",
    "#     [3,0][3,1][3,2][3,3]"
   ]
  },
  {
   "cell_type": "code",
   "execution_count": null,
   "id": "b87fdb8c",
   "metadata": {},
   "outputs": [
    {
     "data": {
      "text/plain": [
       "array([[ 1,  2,  3,  4,  5],\n",
       "       [16, 17, 18, 19,  6],\n",
       "       [15, 24, 25, 20,  7],\n",
       "       [14, 23, 22, 21,  8],\n",
       "       [13, 12, 11, 10,  9]])"
      ]
     },
     "execution_count": 6,
     "metadata": {},
     "output_type": "execute_result"
    }
   ],
   "source": [
    "import numpy as np\n",
    "\n",
    "\n",
    "n = 5\n",
    "values = [i for i in range(1,(n**2)+1)]\n",
    "matrix = np.zeros((n,n), dtype=int)\n",
    "idx = 0\n",
    "left, right = 0, len(matrix[0])\n",
    "top, bottom = 0, len(matrix)\n",
    "\n",
    "while left < right and top < bottom:\n",
    "\n",
    "    for i in range(left,right):\n",
    "        matrix[top][i] = values[idx]\n",
    "        idx+=1\n",
    "    top+=1\n",
    "\n",
    "    for i in range(top,bottom):\n",
    "        matrix[i][right-1] = values[idx]\n",
    "        idx+=1\n",
    "    right-=1\n",
    "    \n",
    "    if not (left < right and top < bottom):\n",
    "        break\n",
    "\n",
    "    for i in range(right-1, left-1,-1):\n",
    "        matrix[bottom-1][i] = values[idx]\n",
    "        idx+=1\n",
    "    bottom-=1\n",
    "\n",
    "    for i in range(bottom-1,top-1,-1):\n",
    "        matrix[i][left] = values[idx]\n",
    "        idx+=1\n",
    "    left+=1\n",
    "\n",
    "matrix"
   ]
  },
  {
   "cell_type": "code",
   "execution_count": null,
   "id": "35510bae",
   "metadata": {},
   "outputs": [],
   "source": []
  }
 ],
 "metadata": {
  "kernelspec": {
   "display_name": "Python 3",
   "language": "python",
   "name": "python3"
  },
  "language_info": {
   "codemirror_mode": {
    "name": "ipython",
    "version": 3
   },
   "file_extension": ".py",
   "mimetype": "text/x-python",
   "name": "python",
   "nbconvert_exporter": "python",
   "pygments_lexer": "ipython3",
   "version": "3.11.9"
  }
 },
 "nbformat": 4,
 "nbformat_minor": 5
}
